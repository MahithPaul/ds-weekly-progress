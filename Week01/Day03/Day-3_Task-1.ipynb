{
 "cells": [
  {
   "cell_type": "markdown",
   "metadata": {},
   "source": [
    "## Write a python program to find the closest number of a given number from a sorted big python list."
   ]
  },
  {
   "cell_type": "code",
   "execution_count": 24,
   "metadata": {},
   "outputs": [
    {
     "name": "stdout",
     "output_type": "stream",
     "text": [
      "Single Sample Number :\n",
      "\n",
      "Closest number to  11  is  [10, 12] \n",
      "\n",
      "\n",
      "Multiple Sample Numbers :\n",
      "\n",
      "Closest number to  11  is  16\n",
      "Closest number to  11  is  29\n",
      "Closest number to  11  is  [10, 12]\n",
      "Closest number to  11  is  31\n",
      "Closest number to  11  is  1\n"
     ]
    }
   ],
   "source": [
    "def finding_closest(sorted_list, target):\n",
    "    left, right = 0, len(sorted_list) - 1\n",
    "\n",
    "    while left <= right:\n",
    "        mid = (left + right) // 2\n",
    "\n",
    "        if sorted_list[mid] == target:\n",
    "            return sorted_list[mid]\n",
    "\n",
    "        if sorted_list[mid] < target:\n",
    "            left = mid + 1\n",
    "        else:\n",
    "            right = mid - 1\n",
    "            \n",
    "    if left >= len(sorted_list):\n",
    "        return sorted_list[right] \n",
    "    if right < 0:\n",
    "        return sorted_list[left]\n",
    "    \n",
    "    if abs(sorted_list[left]-target) == abs(sorted_list[right]-target):\n",
    "        return [sorted_list[right],sorted_list[left]]\n",
    "    elif abs(sorted_list[left] - target) < abs(sorted_list[right] - target):\n",
    "        return sorted_list[left]\n",
    "    else:\n",
    "        return sorted_list[right]\n",
    "list_of_sorted_numbers = [1,2,5,7,8,10,12,15,16,19,20,21,22,29,31]\n",
    "single_sample_num = 11\n",
    "multiple_sample_num = [17,28,11,32,-4]\n",
    "\n",
    "\n",
    "closest_number = finding_closest(list_of_sorted_numbers, single_sample_num)\n",
    "print(\"Single Sample Number :\\n\")\n",
    "print(\"Closest number to \",single_sample_num,\" is \",closest_number,\"\\n\\n\")\n",
    "\n",
    "print(\"Multiple Sample Numbers :\\n\")\n",
    "for sample_num in multiple_sample_num:\n",
    "    closest_number=finding_closest(list_of_sorted_numbers, sample_num)\n",
    "    print(\"Closest number to \",single_sample_num,\" is \",closest_number)"
   ]
  }
 ],
 "metadata": {
  "kernelspec": {
   "display_name": "Python 3",
   "language": "python",
   "name": "python3"
  },
  "language_info": {
   "codemirror_mode": {
    "name": "ipython",
    "version": 3
   },
   "file_extension": ".py",
   "mimetype": "text/x-python",
   "name": "python",
   "nbconvert_exporter": "python",
   "pygments_lexer": "ipython3",
   "version": "3.13.2"
  }
 },
 "nbformat": 4,
 "nbformat_minor": 2
}
