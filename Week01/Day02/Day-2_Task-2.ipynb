{
 "cells": [
  {
   "cell_type": "markdown",
   "metadata": {},
   "source": [
    "## Write a program to calculate the vectors norms between two vectors "
   ]
  },
  {
   "cell_type": "markdown",
   "metadata": {},
   "source": [
    "Calculating Distance between two vectors"
   ]
  },
  {
   "cell_type": "code",
   "execution_count": 8,
   "metadata": {},
   "outputs": [
    {
     "name": "stdout",
     "output_type": "stream",
     "text": [
      "L1 Manhattan Distance: 5\n",
      "L2 Euclidean Distance: 3.0\n",
      "L∞ Max Distance: 2\n"
     ]
    }
   ],
   "source": [
    "def l1_Manhattan_distance(v1, v2):\n",
    "    return sum(abs(x - y) for x, y in zip(v1, v2))\n",
    "\n",
    "def l2_Euclidean_distance(v1, v2):\n",
    "    return (sum((x - y) ** 2 for x, y in zip(v1, v2)))**0.5\n",
    "\n",
    "def linf_Max_distance(v1, v2):\n",
    "    return max(abs(x - y) for x, y in zip(v1, v2))\n",
    "\n",
    "\n",
    "vector1 = [3, -4, 6]\n",
    "vector2 = [1, -2, 5]\n",
    "\n",
    "\n",
    "l1 = l1_Manhattan_distance(vector1, vector2)\n",
    "l2 = l2_Euclidean_distance(vector1, vector2)\n",
    "linf = linf_Max_distance(vector1, vector2)\n",
    "\n",
    "\n",
    "print(\"L1 Manhattan Distance:\", l1)  \n",
    "print(\"L2 Euclidean Distance:\", l2)  \n",
    "print(\"L∞ Max Distance:\", linf)\n"
   ]
  },
  {
   "cell_type": "markdown",
   "metadata": {},
   "source": [
    "Calculating Distance between more than two vectors"
   ]
  },
  {
   "cell_type": "code",
   "execution_count": 18,
   "metadata": {},
   "outputs": [
    {
     "name": "stdout",
     "output_type": "stream",
     "text": [
      "Distance between Vector  1  and Vector  2 :\n",
      "L1 Manhattan Distance: 5\n",
      "L2 Euclidean Distance: 3.0\n",
      "L∞ Max Distance: 2 \n",
      "\n",
      "Distance between Vector  1  and Vector  3 :\n",
      "L1 Manhattan Distance: 17\n",
      "L2 Euclidean Distance: 10.63014581273465\n",
      "L∞ Max Distance: 9 \n",
      "\n",
      "Distance between Vector  2  and Vector  3 :\n",
      "L1 Manhattan Distance: 16\n",
      "L2 Euclidean Distance: 10.198039027185569\n",
      "L∞ Max Distance: 8 \n",
      "\n"
     ]
    }
   ],
   "source": [
    "def l1_Manhattan_distance(v1, v2):\n",
    "    return sum(abs(x - y) for x, y in zip(v1, v2))\n",
    "\n",
    "def l2_Euclidean_distance(v1, v2):\n",
    "    return (sum((x - y) ** 2 for x, y in zip(v1, v2)))**0.5\n",
    "\n",
    "def linf_Max_distance(v1, v2):\n",
    "    return max(abs(x - y) for x, y in zip(v1, v2))\n",
    "\n",
    "\n",
    "vectors = [\n",
    "    [3, -4, 6],\n",
    "    [1, -2, 5],\n",
    "    [7, 0, -3]\n",
    "]\n",
    "\n",
    "\n",
    "for i in range(len(vectors)):\n",
    "    for j in range(i+1,len(vectors)):\n",
    "        vector1, vector2 = vectors[i],vectors[j]\n",
    "        print(\"Distance between Vector \",(i+1),\" and Vector \",(j+1),\":\")\n",
    "        print(\"L1 Manhattan Distance:\", l1_Manhattan_distance(vector1, vector2))  \n",
    "        print(\"L2 Euclidean Distance:\", l2_Euclidean_distance(vector1, vector2))  \n",
    "        print(\"L∞ Max Distance:\", linf_Max_distance(vector1, vector2),\"\\n\")\n",
    "        \n"
   ]
  }
 ],
 "metadata": {
  "kernelspec": {
   "display_name": "Python 3",
   "language": "python",
   "name": "python3"
  },
  "language_info": {
   "codemirror_mode": {
    "name": "ipython",
    "version": 3
   },
   "file_extension": ".py",
   "mimetype": "text/x-python",
   "name": "python",
   "nbconvert_exporter": "python",
   "pygments_lexer": "ipython3",
   "version": "3.13.2"
  }
 },
 "nbformat": 4,
 "nbformat_minor": 2
}
