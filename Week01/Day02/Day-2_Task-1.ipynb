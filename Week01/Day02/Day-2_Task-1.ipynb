{
 "cells": [
  {
   "cell_type": "markdown",
   "metadata": {},
   "source": [
    "# Exercise 1\n",
    "write a python function which does the matrix multiplication ?"
   ]
  },
  {
   "cell_type": "code",
   "execution_count": 85,
   "metadata": {},
   "outputs": [],
   "source": [
    "A = [[1,2,3],[4,5,6],[7,8,9]]\n",
    "B = [[9,8,7],[6,5,4],[3,2,1]]"
   ]
  },
  {
   "cell_type": "code",
   "execution_count": 86,
   "metadata": {},
   "outputs": [],
   "source": [
    "def mul_matrix_validation(A,B):\n",
    "    if len(A[0]) == len(B):\n",
    "        return True\n",
    "    else:\n",
    "        return False"
   ]
  },
  {
   "cell_type": "code",
   "execution_count": 87,
   "metadata": {},
   "outputs": [],
   "source": [
    "def addition_subtraction_matrix_validation(A,B):\n",
    "    if len(A) == len(B) and len(A[0]) == len(B[0]):\n",
    "        return True\n",
    "    else:\n",
    "        return False"
   ]
  },
  {
   "cell_type": "code",
   "execution_count": 88,
   "metadata": {},
   "outputs": [],
   "source": [
    "def multiplication_matrix(A,B):\n",
    "    if mul_matrix_validation(A,B):\n",
    "        result=[]\n",
    "        for i in range(len(A)):\n",
    "            row=[]\n",
    "            for j in range(len([row for row in B][0])):\n",
    "                sum_product=0\n",
    "                for k in range(len(A)):\n",
    "                    sum_product += A[i][k]*B[k][j]\n",
    "                row.append(sum_product)\n",
    "            result.append(row)\n",
    "        return result\n",
    "    else:\n",
    "        print(\"Two Matrix rows and columns should be equal\")"
   ]
  },
  {
   "cell_type": "code",
   "execution_count": 89,
   "metadata": {},
   "outputs": [],
   "source": [
    "def addition_matrix(A,B):\n",
    "    if addition_subtraction_matrix_validation(A,B):\n",
    "        result = [[0,0,0] for l in range(len(A))]\n",
    "        for i in range(len(A)):\n",
    "            for j in range(len([row for row in B][0])):\n",
    "                    result[i][j] += A[i][j]+B[i][j]\n",
    "        return result\n",
    "    else:\n",
    "        print(\"Two Matrix rows and columns should be equal\")"
   ]
  },
  {
   "cell_type": "code",
   "execution_count": 90,
   "metadata": {},
   "outputs": [],
   "source": [
    "def subtracion_matrix(A,B):\n",
    "    if addition_subtraction_matrix_validation(A,B):\n",
    "        result = [[0,0,0] for l in range(len(A))]\n",
    "        for i in range(len(A)):\n",
    "            for j in range(len([row for row in B][0])):\n",
    "                    result[i][j] += A[i][j]-B[i][j]\n",
    "        return result\n",
    "    else:\n",
    "        print(\"Two Matrix rows and columns should be equal\")"
   ]
  },
  {
   "cell_type": "code",
   "execution_count": 91,
   "metadata": {},
   "outputs": [],
   "source": [
    "def transpose_matrix(A):\n",
    "    result = []\n",
    "    for i in range(len(A[0])):\n",
    "        row=[]\n",
    "        for j in range(len(A)):\n",
    "            row.append(A[j][i])\n",
    "        result.append(row)\n",
    "    return result\n",
    "    "
   ]
  },
  {
   "cell_type": "code",
   "execution_count": 92,
   "metadata": {},
   "outputs": [
    {
     "data": {
      "text/plain": [
       "[[10, 10, 10], [10, 10, 10], [10, 10, 10]]"
      ]
     },
     "execution_count": 92,
     "metadata": {},
     "output_type": "execute_result"
    }
   ],
   "source": [
    "addition_matrix(A,B)"
   ]
  },
  {
   "cell_type": "code",
   "execution_count": 93,
   "metadata": {},
   "outputs": [
    {
     "data": {
      "text/plain": [
       "[[-8, -6, -4], [-2, 0, 2], [4, 6, 8]]"
      ]
     },
     "execution_count": 93,
     "metadata": {},
     "output_type": "execute_result"
    }
   ],
   "source": [
    "subtracion_matrix(A,B)"
   ]
  },
  {
   "cell_type": "code",
   "execution_count": 94,
   "metadata": {},
   "outputs": [
    {
     "data": {
      "text/plain": [
       "[[30, 24, 18], [84, 69, 54], [138, 114, 90]]"
      ]
     },
     "execution_count": 94,
     "metadata": {},
     "output_type": "execute_result"
    }
   ],
   "source": [
    "multiplication_matrix(A,B)"
   ]
  },
  {
   "cell_type": "code",
   "execution_count": 95,
   "metadata": {},
   "outputs": [
    {
     "data": {
      "text/plain": [
       "[[1, 4, 7], [2, 5, 8], [3, 6, 9]]"
      ]
     },
     "execution_count": 95,
     "metadata": {},
     "output_type": "execute_result"
    }
   ],
   "source": [
    "transpose_matrix(A)"
   ]
  }
 ],
 "metadata": {
  "kernelspec": {
   "display_name": "Python 3",
   "language": "python",
   "name": "python3"
  },
  "language_info": {
   "codemirror_mode": {
    "name": "ipython",
    "version": 3
   },
   "file_extension": ".py",
   "mimetype": "text/x-python",
   "name": "python",
   "nbconvert_exporter": "python",
   "pygments_lexer": "ipython3",
   "version": "3.13.2"
  }
 },
 "nbformat": 4,
 "nbformat_minor": 2
}
